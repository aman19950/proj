{
 "cells": [
  {
   "cell_type": "markdown",
   "metadata": {},
   "source": [
    "## Data Structures\n",
    " - The basic Python data structures in Python include list, set, tuples, and dictionary. Each of the data structures is unique in its own way. Data structures are “containers” that organize and group data according to type."
   ]
  },
  {
   "cell_type": "markdown",
   "metadata": {},
   "source": [
    "<img src=\"https://global-uploads.webflow.com/6007f8b630f7e5727bc2e10d/6189918d43825ea7b7a2d686_61898ea4cf37648fdd8afeda_5_2rAWPbNtIiP4X7CtwuSS42TF1o-I-jv_pjgKWkw_DcPs46aENTDbTLMv6jfVUZcwMqbm3U2N9tsBxoHJxBezVroAcEb9S3XBychKqDvw_W2ea7AX6EU462pXSIEq4fT21_8dra.jpeg\" width=700 height=100>"
   ]
  },
  {
   "cell_type": "markdown",
   "metadata": {},
   "source": [
    "## List and Tuple\n",
    "\n",
    "- List is a collection of different data types(same in tuple.)\n",
    "- List is ordered (same in tuple)\n",
    "- List is indexed (same in tuple)\n",
    "- repeative element can be allowed in list and tuple.\n",
    "- List is <b>mutable</b> and tuple in <b>Immutable</b>"
   ]
  },
  {
   "cell_type": "code",
   "execution_count": 1,
   "metadata": {},
   "outputs": [
    {
     "name": "stdout",
     "output_type": "stream",
     "text": [
      "Hello\n"
     ]
    }
   ],
   "source": [
    "x = [1, 2.5, \"Hello\", True, 'hi']\n",
    "print(x[2])\n"
   ]
  },
  {
   "cell_type": "code",
   "execution_count": 2,
   "metadata": {},
   "outputs": [
    {
     "name": "stdout",
     "output_type": "stream",
     "text": [
      "[1, 2.5, 90, True, 'hi']\n"
     ]
    }
   ],
   "source": [
    "x[2] = 90\n",
    "print(x)"
   ]
  },
  {
   "cell_type": "code",
   "execution_count": 3,
   "metadata": {},
   "outputs": [
    {
     "name": "stdout",
     "output_type": "stream",
     "text": [
      "[2.5, 90]\n"
     ]
    }
   ],
   "source": [
    "print(x[1:3])"
   ]
  },
  {
   "cell_type": "code",
   "execution_count": 6,
   "metadata": {},
   "outputs": [
    {
     "name": "stdout",
     "output_type": "stream",
     "text": [
      "[1, 190, 200, 24004, 19121, 11, 'hi']\n"
     ]
    }
   ],
   "source": [
    "x[1:3] = [190,200,24004,19121,11]\n",
    "print(x)"
   ]
  },
  {
   "cell_type": "code",
   "execution_count": 7,
   "metadata": {},
   "outputs": [
    {
     "data": {
      "text/plain": [
       "[1, 2, 3, 4, 5, 100]"
      ]
     },
     "execution_count": 7,
     "metadata": {},
     "output_type": "execute_result"
    }
   ],
   "source": [
    "x = [1,2,3,4,5]\n",
    "\n",
    "x.append(100)\n",
    "x"
   ]
  },
  {
   "cell_type": "code",
   "execution_count": 8,
   "metadata": {},
   "outputs": [
    {
     "data": {
      "text/plain": [
       "[1000, 1, 2, 3, 4, 5, 100]"
      ]
     },
     "execution_count": 8,
     "metadata": {},
     "output_type": "execute_result"
    }
   ],
   "source": [
    "x.insert(0,1000)\n",
    "x"
   ]
  },
  {
   "cell_type": "code",
   "execution_count": 9,
   "metadata": {},
   "outputs": [
    {
     "data": {
      "text/plain": [
       "[1000, 1, 2, 3, 4, 5, 100, 1, 21, 32, 14]"
      ]
     },
     "execution_count": 9,
     "metadata": {},
     "output_type": "execute_result"
    }
   ],
   "source": [
    "x.extend([1,21,32,14])\n",
    "x"
   ]
  },
  {
   "cell_type": "markdown",
   "metadata": {},
   "source": [
    "## Nested List"
   ]
  },
  {
   "cell_type": "code",
   "execution_count": 12,
   "metadata": {},
   "outputs": [],
   "source": [
    "x = [[1, [2, 3, [4, 5, 6], 7], [8, 9, 10], 11, 12]]\n",
    "# Q1\n",
    "x = [[1, [2, 3, [4, 5, 6], 7,100], [8, 9, 10], 11, 12]]\n",
    "# Q2\n",
    "x = [[1, [2, 3, [4, 5, 6], 7,100], [8, 9,1000, 10], 11, 12]]\n",
    "# Q3\n",
    "x = [[1, [2, 3, [4, 5, 6],2000, 7,100], [8, 9,1000, 10], 11, 12]]"
   ]
  },
  {
   "cell_type": "code",
   "execution_count": 16,
   "metadata": {},
   "outputs": [
    {
     "name": "stdout",
     "output_type": "stream",
     "text": [
      "False\n"
     ]
    }
   ],
   "source": [
    "x = [11,22,33,44]\n",
    "\n",
    "# for i in x:\n",
    "#     print(i)\n",
    "    \n",
    "# for i in range(len(x)):\n",
    "#     print(i,\"----\",x[i])\n",
    "if 11 not in x:\n",
    "    print(\"True\")\n",
    "else:\n",
    "    print(\"False\")"
   ]
  },
  {
   "cell_type": "code",
   "execution_count": 23,
   "metadata": {},
   "outputs": [
    {
     "name": "stdout",
     "output_type": "stream",
     "text": [
      "[]\n",
      "<class 'list'>\n"
     ]
    }
   ],
   "source": [
    "x = [11,24,13,24]\n",
    "# z = [11,24,13]\n",
    "\n",
    "x.remove(24)\n",
    "# del x\n",
    "# z = x.pop(1)\n",
    "# print(z)\n",
    "# x.clear()\n",
    "\n",
    "print(x)\n",
    "z = []\n",
    "print(type(z))"
   ]
  },
  {
   "cell_type": "code",
   "execution_count": null,
   "metadata": {},
   "outputs": [],
   "source": [
    "# Q1.\n",
    "z = []"
   ]
  }
 ],
 "metadata": {
  "kernelspec": {
   "display_name": "Python 3",
   "language": "python",
   "name": "python3"
  },
  "language_info": {
   "codemirror_mode": {
    "name": "ipython",
    "version": 3
   },
   "file_extension": ".py",
   "mimetype": "text/x-python",
   "name": "python",
   "nbconvert_exporter": "python",
   "pygments_lexer": "ipython3",
   "version": "3.8.5"
  }
 },
 "nbformat": 4,
 "nbformat_minor": 4
}
