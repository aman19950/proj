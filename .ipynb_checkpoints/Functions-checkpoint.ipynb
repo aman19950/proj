{
 "cells": [
  {
   "cell_type": "markdown",
   "metadata": {},
   "source": [
    "## Functions"
   ]
  },
  {
   "cell_type": "code",
   "execution_count": null,
   "metadata": {},
   "outputs": [],
   "source": [
    "# function with no argument with no return\n",
    "def add():\n",
    "    print(\"hello\")\n",
    "\n",
    "add()\n",
    "add()\n",
    "add()"
   ]
  },
  {
   "cell_type": "code",
   "execution_count": null,
   "metadata": {},
   "outputs": [],
   "source": [
    "# function with argument with no return\n",
    "def add(x,y): #formal arguments\n",
    "    print(\"add--\",x+y)\n",
    "    print(\"multi-\",x*y)\n",
    "    \n",
    "add(4,5) #actual arguments\n",
    "add(5,5)"
   ]
  },
  {
   "cell_type": "code",
   "execution_count": null,
   "metadata": {},
   "outputs": [],
   "source": [
    "# function with no argument with return\n",
    "\n",
    "def xyz():\n",
    "    z = 3 + 5\n",
    "    y = 4  * 6\n",
    "    return z,y\n",
    "c,d = xyz()\n",
    "print(c)\n",
    "print(d)"
   ]
  },
  {
   "cell_type": "code",
   "execution_count": null,
   "metadata": {},
   "outputs": [],
   "source": [
    "#function with argument with return\n",
    "\n",
    "def xyz(x,y):\n",
    "    z =  x+y\n",
    "    return z\n",
    "\n",
    "c = xyz(3,15)\n",
    "print(c)"
   ]
  },
  {
   "cell_type": "code",
   "execution_count": null,
   "metadata": {},
   "outputs": [],
   "source": [
    "# *arg --------- **kwargs\n",
    "def xyz(y,*x):\n",
    "    print(y)\n",
    "    print(x)\n",
    "\n",
    "xyz(1,2,3,\"hello\",7,8,9)"
   ]
  },
  {
   "cell_type": "code",
   "execution_count": null,
   "metadata": {},
   "outputs": [],
   "source": [
    "def xyz(*x,**y):\n",
    "    print(x)\n",
    "    print(y)\n",
    "\n",
    "xyz(1,2,3,a=100,b=200,c=300)"
   ]
  },
  {
   "cell_type": "code",
   "execution_count": null,
   "metadata": {},
   "outputs": [],
   "source": [
    "x = 10                   # global variable\n",
    "y = 20                    # global variable\n",
    "def xyz():\n",
    "    global x\n",
    "    x = 100\n",
    "    y = 200               # local variable\n",
    "    z = x + y             # z is a local variable\n",
    "    return z\n",
    "\n",
    "print(x) \n",
    "c = xyz()\n",
    "print(x)"
   ]
  },
  {
   "cell_type": "code",
   "execution_count": null,
   "metadata": {},
   "outputs": [],
   "source": [
    "def xyz(x,y):\n",
    "    z = x + y\n",
    "    print(z)\n",
    "    def abc():\n",
    "        nonlocal z\n",
    "        z = 6 + 6\n",
    "        print(z)\n",
    "    abc()\n",
    "    print(z)\n",
    "    \n",
    "xyz(4,5)"
   ]
  },
  {
   "cell_type": "markdown",
   "metadata": {},
   "source": [
    "## Recurrsion"
   ]
  },
  {
   "cell_type": "code",
   "execution_count": null,
   "metadata": {},
   "outputs": [],
   "source": [
    "# Function calling itself\n",
    "\n",
    "def xyz():\n",
    "    print(\"hello\")\n",
    "    xyz()\n",
    "\n",
    "xyz()"
   ]
  },
  {
   "cell_type": "code",
   "execution_count": null,
   "metadata": {},
   "outputs": [],
   "source": [
    "# wap a program to print factorial of a number using recursion\n",
    "x = int(input(\"enter a number = \"))\n",
    "\n",
    "def fact(n):\n",
    "    if n == 0 or n == 1:\n",
    "        return 1\n",
    "    else:\n",
    "        return n * fact(n-1)\n",
    "    \n",
    "\n",
    "print(fact(x))\n"
   ]
  },
  {
   "cell_type": "code",
   "execution_count": null,
   "metadata": {},
   "outputs": [],
   "source": [
    "# wap to print fibbonacci series using recursion\n",
    "x = int(input(\"enter a number = \"))\n",
    "\n",
    "def fib(n):\n",
    "    if n<= 1:\n",
    "        return n\n",
    "    else:\n",
    "        return fib(n-1)+fib(n-2)\n",
    "    \n",
    "if x < 0:\n",
    "    print(\"series doesn't exists\")\n",
    "else:\n",
    "    for i in range(x):\n",
    "        print(fib(i))"
   ]
  },
  {
   "cell_type": "code",
   "execution_count": null,
   "metadata": {},
   "outputs": [],
   "source": []
  }
 ],
 "metadata": {
  "kernelspec": {
   "display_name": "Python 3",
   "language": "python",
   "name": "python3"
  },
  "language_info": {
   "codemirror_mode": {
    "name": "ipython",
    "version": 3
   },
   "file_extension": ".py",
   "mimetype": "text/x-python",
   "name": "python",
   "nbconvert_exporter": "python",
   "pygments_lexer": "ipython3",
   "version": "3.8.5"
  }
 },
 "nbformat": 4,
 "nbformat_minor": 4
}
