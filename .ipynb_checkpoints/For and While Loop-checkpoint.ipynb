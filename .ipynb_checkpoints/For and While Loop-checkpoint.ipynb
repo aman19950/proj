{
 "cells": [
  {
   "cell_type": "markdown",
   "metadata": {},
   "source": [
    "### FOR Loop\n",
    "<ol> \n",
    "    <li>A <b>for loop</b> is used for iterating over a sequence (that is either a list, a tuple, a dictionary, a set, or a string).</li>\n",
    "<li><i>is is less like the for keyword in other programming languages, and works more like an iterator method as found in other object-orientated programming languages</i>.</li>\n",
    "\n",
    "<li>With the <strong>for loop</strong> we can execute a set of statements, once for each item in a list, tuple, set etc.</li></ol>"
   ]
  },
  {
   "cell_type": "code",
   "execution_count": null,
   "metadata": {},
   "outputs": [],
   "source": [
    "for i in range(1,10,2):   # syntax for i in range(start,stop,step):\n",
    "    print(i)"
   ]
  },
  {
   "cell_type": "code",
   "execution_count": null,
   "metadata": {},
   "outputs": [],
   "source": [
    "for i in range(1,10):   # syntax for i in range(start,stop): by default step size is 1\n",
    "    print(i)"
   ]
  },
  {
   "cell_type": "code",
   "execution_count": null,
   "metadata": {},
   "outputs": [],
   "source": [
    "for i in range(10):   # syntax for i in range(stop): by default the loop will start from 0 and by default step size is 1\n",
    "    print(i)"
   ]
  },
  {
   "cell_type": "markdown",
   "metadata": {},
   "source": [
    "### The while Loop\n",
    "\n",
    "<ol><li>With the while loop we can execute a set of statements as long as a condition is true.</li></ol>"
   ]
  },
  {
   "cell_type": "code",
   "execution_count": null,
   "metadata": {},
   "outputs": [],
   "source": [
    "i = 1                                 # syntax initialization ----> i = 0\n",
    "while(i<=6):                          # while (condition)\n",
    "    print(i)                          #\n",
    "    i = i + 1                         # updation i = i + 1 or i += 1"
   ]
  }
 ],
 "metadata": {
  "kernelspec": {
   "display_name": "Python 3",
   "language": "python",
   "name": "python3"
  },
  "language_info": {
   "codemirror_mode": {
    "name": "ipython",
    "version": 3
   },
   "file_extension": ".py",
   "mimetype": "text/x-python",
   "name": "python",
   "nbconvert_exporter": "python",
   "pygments_lexer": "ipython3",
   "version": "3.8.5"
  }
 },
 "nbformat": 4,
 "nbformat_minor": 4
}
