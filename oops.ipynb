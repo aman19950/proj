{
 "cells": [
  {
   "cell_type": "markdown",
   "metadata": {},
   "source": [
    "### OOPs\n",
    "- class is a blueprint of objects\n",
    "- class is a collection properties and methods\n",
    "\n",
    "### Objects\n",
    "- objects is a real world entity"
   ]
  },
  {
   "cell_type": "code",
   "execution_count": 25,
   "metadata": {},
   "outputs": [
    {
     "name": "stdout",
     "output_type": "stream",
     "text": [
      "BMW\n",
      "2015\n"
     ]
    }
   ],
   "source": [
    "class Car:\n",
    "    name = \"BMW\"                   # properties / class variable\n",
    "    __color = \"Red\"                 # properties / class variable\n",
    "    _model = 2015\n",
    "    \n",
    "    def speed(self):               # method\n",
    "#         self.__color = \"Red\"\n",
    "#         print(self.__color)\n",
    "        print(\"this is my method\")  \n",
    "    \n",
    "    def speed_1(self):              # method\n",
    "        print(self.__color)\n",
    "        print(\"this is my method\")  \n",
    "\n",
    "c_obj = Car()\n",
    "print(c_obj.name)\n",
    "print(c_obj._model)\n",
    "# c_obj.speed()\n",
    "# c_obj.speed_1()"
   ]
  },
  {
   "cell_type": "markdown",
   "metadata": {},
   "source": [
    "### Constructor\n",
    "- constructor is a special method thats call automatically whenever an object of a class is created."
   ]
  },
  {
   "cell_type": "code",
   "execution_count": 19,
   "metadata": {},
   "outputs": [
    {
     "name": "stdout",
     "output_type": "stream",
     "text": [
      "this is my constructor...\n",
      "akash\n",
      "3000\n",
      "this is my normal method...\n"
     ]
    }
   ],
   "source": [
    "class Emp:\n",
    "    def __init__(self,name,sal):\n",
    "        s = \"sdjg\"\n",
    "        self.x = name\n",
    "        self.y = sal\n",
    "#         print(\"this is my constructor...\")\n",
    "    \n",
    "    def salary(self):\n",
    "        print(self.x)\n",
    "        print(self.y)\n",
    "        \n",
    "\n",
    "e_obj = Emp(\"akash\",3000)\n",
    "\n",
    "e_obj.salary()"
   ]
  },
  {
   "cell_type": "code",
   "execution_count": 26,
   "metadata": {},
   "outputs": [
    {
     "name": "stdout",
     "output_type": "stream",
     "text": [
      "audi\n",
      "2015\n"
     ]
    }
   ],
   "source": [
    "class Car:\n",
    "    name = \"audi\"    # public data member\n",
    "    __color = \"bmw\"  #  private data member\n",
    "    _model = 2015    # protected data member\n",
    "    \n",
    "c_obj = Car()\n",
    "print(c_obj.name)\n",
    "print(c_obj._model)"
   ]
  },
  {
   "cell_type": "markdown",
   "metadata": {},
   "source": [
    "## Inheritance"
   ]
  },
  {
   "cell_type": "code",
   "execution_count": 21,
   "metadata": {},
   "outputs": [
    {
     "name": "stdout",
     "output_type": "stream",
     "text": [
      "cat can meow\n",
      "Dog\n"
     ]
    }
   ],
   "source": [
    "class Animal:\n",
    "    name = \"Dog\"\n",
    "    color = \"black\"\n",
    "    \n",
    "    def sound(self):\n",
    "        print(\"dog can bark\")\n",
    "\n",
    "class Cat(Animal):\n",
    "    name = \"lion\"\n",
    "    color = \"yellow\"\n",
    "    def sound(self):\n",
    "#         print(self.name,\"-----\",self.color)\n",
    "#         print(Animal.name,\"-----\",Animal.color)\n",
    "        print(\"cat can meow\")\n",
    "#         Animal.sound(self)\n",
    "        print(super().name)\n",
    "        \n",
    "c_obj = Cat()\n",
    "c_obj.sound()\n",
    "# print(c_obj.name)\n",
    "# print(c_obj.color)\n",
    "# c_obj.sound()"
   ]
  },
  {
   "cell_type": "code",
   "execution_count": 22,
   "metadata": {},
   "outputs": [
    {
     "name": "stdout",
     "output_type": "stream",
     "text": [
      "this is my child class 1\n",
      "this is my child class 2\n"
     ]
    }
   ],
   "source": [
    "class Animal:\n",
    "    name = \"Dog\"\n",
    "    color = \"black\"  \n",
    "    def sound_1(self):\n",
    "        print(\"this is my parent class\")\n",
    "              \n",
    "class Dog(Animal):\n",
    "    def sound_1(self):\n",
    "        print(\"this is my child class 1\")\n",
    "\n",
    "class Cat(Dog):\n",
    "    def sound(self):\n",
    "        super().sound_1()\n",
    "        print(\"this is my child class 2\")\n",
    "          \n",
    "c_obj = Cat()\n",
    "c_obj.sound()\n"
   ]
  },
  {
   "cell_type": "code",
   "execution_count": 25,
   "metadata": {},
   "outputs": [
    {
     "name": "stdout",
     "output_type": "stream",
     "text": [
      "this is my parent class\n",
      "this is my child class 2\n"
     ]
    }
   ],
   "source": [
    "\n",
    "              \n",
    "class Dog:\n",
    "    def sound_1(self):\n",
    "        print(\"this is my child class 1\")\n",
    "\n",
    "class Animal:\n",
    "    name = \"Dog\"\n",
    "    color = \"black\"  \n",
    "    def sound_1(self):\n",
    "        print(\"this is my parent class\")\n",
    "        \n",
    "class Cat(Animal,Dog):\n",
    "    def sound(self):\n",
    "        super().sound_1()\n",
    "        print(\"this is my child class 2\")\n",
    "          \n",
    "c_obj = Cat()\n",
    "c_obj.sound()\n"
   ]
  },
  {
   "cell_type": "markdown",
   "metadata": {},
   "source": [
    "## Polymorphism"
   ]
  },
  {
   "cell_type": "code",
   "execution_count": 33,
   "metadata": {},
   "outputs": [
    {
     "name": "stdout",
     "output_type": "stream",
     "text": [
      "this is dog sound class\n",
      "Cat can meow\n"
     ]
    }
   ],
   "source": [
    "class Animal:\n",
    "    def sound(self):\n",
    "        print(\"all animal's having sound\")\n",
    "    \n",
    "    def sound_1(self):\n",
    "        print(\"animal's sound\")\n",
    "\n",
    "class Dog(Animal):\n",
    "    def sound(self):\n",
    "        print(\"Dog can bark\")\n",
    "    \n",
    "    def sound_2(self):\n",
    "        print(\"this is dog sound class\")\n",
    "\n",
    "class Cat(Animal):\n",
    "    def sound(self):\n",
    "        Dog.sound_2(self)\n",
    "        print(\"Cat can meow\")\n",
    "\n",
    "c = Cat()\n",
    "c.sound()\n",
    "# c.sound_2()"
   ]
  },
  {
   "cell_type": "markdown",
   "metadata": {},
   "source": [
    "## Abstraction"
   ]
  },
  {
   "cell_type": "code",
   "execution_count": 42,
   "metadata": {},
   "outputs": [
    {
     "name": "stdout",
     "output_type": "stream",
     "text": [
      "this is a abstract method\n",
      "this is my child class method\n",
      "this is a normal method\n"
     ]
    }
   ],
   "source": [
    "from abc import ABC,abstractmethod\n",
    "\n",
    "class Veh(ABC):\n",
    "    \n",
    "    @abstractmethod\n",
    "    def speed(self):\n",
    "        print(\"this is a abstract method\")\n",
    "    \n",
    "    def speed_1(self):\n",
    "        print(\"this is a normal method\")\n",
    "        \n",
    "class Car(Veh):\n",
    "    def speed(self):\n",
    "        super().speed()\n",
    "        print(\"this is my child class method\")\n",
    "\n",
    "c = Car()\n",
    "# c.speed_1()\n",
    "c.speed()\n",
    "c.speed_1()"
   ]
  },
  {
   "cell_type": "markdown",
   "metadata": {},
   "source": [
    "### Type of Methods\n",
    "- instance method\n",
    "- classmethod\n",
    "- staticmethod"
   ]
  },
  {
   "cell_type": "code",
   "execution_count": 55,
   "metadata": {},
   "outputs": [
    {
     "name": "stdout",
     "output_type": "stream",
     "text": [
      "this is my class method\n",
      "hello\n",
      "this is my instance method\n",
      "5 6\n",
      "this is my static method\n"
     ]
    }
   ],
   "source": [
    "class Car:\n",
    "    \n",
    "    @classmethod\n",
    "    def pqr(cls):\n",
    "        cls.x = \"hello\"\n",
    "        print(\"this is my class method\")\n",
    "        \n",
    "    \n",
    "    def xyz(self):\n",
    "        print(self.x)\n",
    "        print(\"this is my instance method\")\n",
    "        \n",
    "    @staticmethod\n",
    "    def abc(x,y):\n",
    "        print(x,y)\n",
    "        print(\"this is my static method\")\n",
    "        \n",
    "   \n",
    "c = Car()\n",
    "c.pqr()\n",
    "c.xyz()\n",
    "c.abc(5,6)"
   ]
  },
  {
   "cell_type": "markdown",
   "metadata": {},
   "source": [
    "### Getter and Setter Method\n"
   ]
  },
  {
   "cell_type": "code",
   "execution_count": 58,
   "metadata": {},
   "outputs": [
    {
     "name": "stdout",
     "output_type": "stream",
     "text": [
      "sonu\n",
      "2000\n"
     ]
    }
   ],
   "source": [
    "class Emp:\n",
    "    \n",
    "    def set_salary(self,name,salary):\n",
    "        self.name = name\n",
    "        self.__salary = salary\n",
    "        \n",
    "    def get_salary(self):\n",
    "        print(self.name)\n",
    "        print(self.__salary)\n",
    "        \n",
    "c_obj = Emp()\n",
    "c_obj.set_salary('sonu',2000)\n",
    "c_obj.get_salary()"
   ]
  },
  {
   "cell_type": "code",
   "execution_count": null,
   "metadata": {},
   "outputs": [],
   "source": []
  }
 ],
 "metadata": {
  "kernelspec": {
   "display_name": "Python 3",
   "language": "python",
   "name": "python3"
  },
  "language_info": {
   "codemirror_mode": {
    "name": "ipython",
    "version": 3
   },
   "file_extension": ".py",
   "mimetype": "text/x-python",
   "name": "python",
   "nbconvert_exporter": "python",
   "pygments_lexer": "ipython3",
   "version": "3.8.5"
  }
 },
 "nbformat": 4,
 "nbformat_minor": 4
}
