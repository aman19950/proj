{
 "cells": [
  {
   "cell_type": "code",
   "execution_count": 1,
   "metadata": {},
   "outputs": [],
   "source": [
    "#Inbuilt functions in Python\n",
    "# a) Enumerate\n",
    "# b) zip\n",
    "# c) map\n",
    "# d) reduce\n",
    "# e) filter\n",
    "# f) lambda function\n",
    "# g) eval\n"
   ]
  },
  {
   "cell_type": "markdown",
   "metadata": {},
   "source": [
    "### Eval"
   ]
  },
  {
   "cell_type": "code",
   "execution_count": 5,
   "metadata": {},
   "outputs": [
    {
     "name": "stdout",
     "output_type": "stream",
     "text": [
      "print('hello')\n",
      "hello\n",
      "print(2+2)\n",
      "4\n"
     ]
    }
   ],
   "source": [
    "x = \"print('hello')\"\n",
    "y = \"print(2+2)\"\n",
    "print(x)\n",
    "eval(x)\n",
    "print(y)\n",
    "eval(y)"
   ]
  },
  {
   "cell_type": "markdown",
   "metadata": {},
   "source": [
    "## Zip"
   ]
  },
  {
   "cell_type": "code",
   "execution_count": 13,
   "metadata": {},
   "outputs": [
    {
     "name": "stdout",
     "output_type": "stream",
     "text": [
      "[('a', 11, 4), ('b', 22, 6), ('c', 33, 7.8)]\n"
     ]
    }
   ],
   "source": [
    "x = [\"a\",\"b\",\"c\"]\n",
    "y = (11,22,33,44)\n",
    "u = [4,6,7.8]\n",
    "\n",
    "z = zip(x,y,u)\n",
    "# print(z)\n",
    "\n",
    "# for i in z:\n",
    "#     print(i)\n",
    "c = list(z)\n",
    "print(c)"
   ]
  },
  {
   "cell_type": "markdown",
   "metadata": {},
   "source": [
    "## Map"
   ]
  },
  {
   "cell_type": "code",
   "execution_count": 16,
   "metadata": {},
   "outputs": [
    {
     "name": "stdout",
     "output_type": "stream",
     "text": [
      "[1, 2, 3, 4]\n"
     ]
    }
   ],
   "source": [
    "x = [\"1\",\"2\",\"3\",\"4\"]\n",
    "# z = [1,2,3,4]\n",
    "# z  = []\n",
    "# for i in x:\n",
    "#     z.append(int(i))\n",
    "# print(z)\n",
    "z = map(int,x)\n",
    "print(list(z))"
   ]
  },
  {
   "cell_type": "code",
   "execution_count": null,
   "metadata": {},
   "outputs": [],
   "source": [
    "x = [1,2,3,4]\n",
    "# z = [1,4,9,16]\n",
    "def sq(n):\n",
    "    return n*n\n",
    "#     z = []\n",
    "#     for i in n:\n",
    "#         z.append(i*i)\n",
    "#     return z\n",
    "\n",
    "c = map(sq,x)\n",
    "print(list(c))"
   ]
  },
  {
   "cell_type": "markdown",
   "metadata": {},
   "source": [
    "## Filter\n"
   ]
  },
  {
   "cell_type": "code",
   "execution_count": 23,
   "metadata": {},
   "outputs": [
    {
     "name": "stdout",
     "output_type": "stream",
     "text": [
      "['a', 'e', 'i', 'u']\n"
     ]
    }
   ],
   "source": [
    "x = [\"a\",\"b\",\"e\",\"i\",\"u\",\"d\"]\n",
    "# z = [\"a\",\"e\",\"i\",\"u\"]\n",
    "def vow(n):\n",
    "    z = [\"a\",\"e\",\"i\",\"o\",\"u\"]\n",
    "    if n in z:\n",
    "        return n\n",
    "\n",
    "c = filter(vow,x)\n",
    "print(list(c))"
   ]
  },
  {
   "cell_type": "markdown",
   "metadata": {},
   "source": [
    "# Enumerate"
   ]
  },
  {
   "cell_type": "code",
   "execution_count": 26,
   "metadata": {},
   "outputs": [
    {
     "name": "stdout",
     "output_type": "stream",
     "text": [
      "[(6, 'a'), (7, 'b'), (8, 'c'), (9, 'd')]\n"
     ]
    }
   ],
   "source": [
    "x = [\"a\",\"b\",\"c\",\"d\"]\n",
    "z = enumerate(x,6)\n",
    "print(list(z))"
   ]
  },
  {
   "cell_type": "markdown",
   "metadata": {},
   "source": [
    "## lambda Function\n",
    "- lambda is a small anynonmus function\n",
    "- lambda can take any no. of arguments but having single expression"
   ]
  },
  {
   "cell_type": "code",
   "execution_count": 27,
   "metadata": {},
   "outputs": [
    {
     "name": "stdout",
     "output_type": "stream",
     "text": [
      "16\n"
     ]
    }
   ],
   "source": [
    "c =  lambda a,b,c : a+b+c\n",
    "print(c(4,5,7))"
   ]
  },
  {
   "cell_type": "code",
   "execution_count": 29,
   "metadata": {},
   "outputs": [
    {
     "name": "stdout",
     "output_type": "stream",
     "text": [
      "56\n"
     ]
    }
   ],
   "source": [
    "def xyz(n):\n",
    "    return lambda x :x * n\n",
    "\n",
    "c = xyz(7)\n",
    "print(c(8))"
   ]
  },
  {
   "cell_type": "code",
   "execution_count": 2,
   "metadata": {},
   "outputs": [
    {
     "name": "stdout",
     "output_type": "stream",
     "text": [
      "[2, 4, 6, 8, 10, 12, 14]\n"
     ]
    }
   ],
   "source": [
    "x = [1,2,3,4,5,6,7,8,9,10,11,12,13,14,15]\n",
    "y = filter(lambda x:(x%2==0),x)\n",
    "print(list(y))"
   ]
  },
  {
   "cell_type": "markdown",
   "metadata": {},
   "source": [
    "## Reduce"
   ]
  },
  {
   "cell_type": "code",
   "execution_count": 5,
   "metadata": {},
   "outputs": [
    {
     "name": "stdout",
     "output_type": "stream",
     "text": [
      "10\n",
      "24\n"
     ]
    }
   ],
   "source": [
    "from functools import reduce\n",
    "\n",
    "x = [1,2,3,4]\n",
    "\n",
    "print(reduce(lambda x,y:x+y,x))\n",
    "print(reduce(lambda x,y:x*y,x))"
   ]
  },
  {
   "cell_type": "markdown",
   "metadata": {},
   "source": [
    "## Enumerate"
   ]
  },
  {
   "cell_type": "code",
   "execution_count": 7,
   "metadata": {},
   "outputs": [
    {
     "name": "stdout",
     "output_type": "stream",
     "text": [
      "[(6, 'a'), (7, 'b'), (8, 'c'), (9, 'd')]\n"
     ]
    }
   ],
   "source": [
    "x = [\"a\",\"b\",\"c\",\"d\"]\n",
    "z = enumerate(x,6)\n",
    "print(list(z))"
   ]
  },
  {
   "cell_type": "code",
   "execution_count": null,
   "metadata": {},
   "outputs": [],
   "source": []
  }
 ],
 "metadata": {
  "kernelspec": {
   "display_name": "Python 3",
   "language": "python",
   "name": "python3"
  },
  "language_info": {
   "codemirror_mode": {
    "name": "ipython",
    "version": 3
   },
   "file_extension": ".py",
   "mimetype": "text/x-python",
   "name": "python",
   "nbconvert_exporter": "python",
   "pygments_lexer": "ipython3",
   "version": "3.8.5"
  }
 },
 "nbformat": 4,
 "nbformat_minor": 4
}
