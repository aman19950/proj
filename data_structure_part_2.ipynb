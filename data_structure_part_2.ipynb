{
 "cells": [
  {
   "cell_type": "markdown",
   "metadata": {},
   "source": [
    "## DICT\n",
    "- Dict is a collection of key value pair\n",
    "- Dict is ordered\n",
    "- Dict is unindexed\n",
    "- Dict is mutable"
   ]
  },
  {
   "cell_type": "code",
   "execution_count": 8,
   "metadata": {},
   "outputs": [
    {
     "name": "stdout",
     "output_type": "stream",
     "text": [
      "{'a': 1, 'b': 2, 'c': 3}\n",
      "{'a': 1, 'b': 2, 'c': 3, 'd': 90}\n"
     ]
    }
   ],
   "source": [
    "x = {\n",
    "    'a' : 1,\n",
    "    'b' : 2,\n",
    "    'c' : 3\n",
    "}\n",
    "print(x)\n",
    "# print(x['d'])\n",
    "# print(x.get('d'))\n",
    "x['d'] = 90\n",
    "print(x)"
   ]
  },
  {
   "cell_type": "code",
   "execution_count": 1,
   "metadata": {},
   "outputs": [
    {
     "name": "stdout",
     "output_type": "stream",
     "text": [
      "\n",
      "Welcome to Python 3.8's help utility!\n",
      "\n",
      "If this is your first time using Python, you should definitely check out\n",
      "the tutorial on the Internet at https://docs.python.org/3.8/tutorial/.\n",
      "\n",
      "Enter the name of any module, keyword, or topic to get help on writing\n",
      "Python programs and using Python modules.  To quit this help utility and\n",
      "return to the interpreter, just type \"quit\".\n",
      "\n",
      "To get a list of available modules, keywords, symbols, or topics, type\n",
      "\"modules\", \"keywords\", \"symbols\", or \"topics\".  Each module also comes\n",
      "with a one-line summary of what it does; to list the modules whose name\n",
      "or summary contain a given string such as \"spam\", type \"modules spam\".\n",
      "\n",
      "help> modules\n",
      "\n",
      "Please wait a moment while I gather a list of all available modules...\n",
      "\n"
     ]
    },
    {
     "name": "stderr",
     "output_type": "stream",
     "text": [
      "C:\\Users\\Aman\\anaconda3\\lib\\site-packages\\IPython\\kernel\\__init__.py:12: ShimWarning: The `IPython.kernel` package has been deprecated since IPython 4.0.You should import from ipykernel or jupyter_client instead.\n",
      "  warn(\"The `IPython.kernel` package has been deprecated since IPython 4.0.\"\n",
      "WARNING:root:This caffe2 python run failed to load cuda module:No module named 'caffe2.python.caffe2_pybind11_state_gpu',and AMD hip module:No module named 'caffe2.python.caffe2_pybind11_state_hip'.Will run in CPU only mode.\n",
      "pandas.Int64Index is deprecated and will be removed from pandas in a future version. Use pandas.Index with the appropriate dtype instead.\n",
      "pandas.Float64Index is deprecated and will be removed from pandas in a future version. Use pandas.Index with the appropriate dtype instead.\n",
      "pandas.UInt64Index is deprecated and will be removed from pandas in a future version. Use pandas.Index with the appropriate dtype instead.\n",
      "The gensim.similarities.levenshtein submodule is disabled, because the optional Levenshtein package <https://pypi.org/project/python-Levenshtein/> is unavailable. Install Levenhstein (e.g. `pip install python-Levenshtein`) to suppress this warning.\n",
      "\n",
      "\n",
      "The matplotlib.compat module was deprecated in Matplotlib 3.3 and will be removed two minor releases later.\n",
      "\n",
      "The DICOM readers are highly experimental, unstable, and only work for Siemens time-series at the moment\n",
      "Please use with caution.  We would be grateful for your help in improving them\n",
      "\n",
      "The twython library has not been installed. Some functionality from the twitter package will not be available.\n",
      "\n",
      "The numpy.array_api submodule is still experimental. See NEP 47.\n",
      "\n",
      "C:\\Users\\Aman\\anaconda3\\lib\\site-packages\\qtawesome\\iconic_font.py:311: UserWarning:\n",
      "\n",
      "You need to have a running QApplication to use QtAwesome!\n",
      "\n",
      "\n",
      "C:\\Users\\Aman\\anaconda3\\lib\\site-packages\\statsmodels\\tsa\\base\\tsa_model.py:7: FutureWarning:\n",
      "\n",
      "pandas.Int64Index is deprecated and will be removed from pandas in a future version. Use pandas.Index with the appropriate dtype instead.\n",
      "\n",
      "\n",
      "C:\\Users\\Aman\\anaconda3\\lib\\site-packages\\statsmodels\\tsa\\base\\tsa_model.py:7: FutureWarning:\n",
      "\n",
      "pandas.Float64Index is deprecated and will be removed from pandas in a future version. Use pandas.Index with the appropriate dtype instead.\n",
      "\n",
      "\n",
      "WARNING:torch.distributed.elastic.multiprocessing.redirects:NOTE: Redirects are currently not supported in Windows or MacOs.\n"
     ]
    },
    {
     "name": "stdout",
     "output_type": "stream",
     "text": [
      "No CUDA runtime is found, using CUDA_HOME='C:\\Program Files\\NVIDIA GPU Computing Toolkit\\CUDA\\v11.2'\n"
     ]
    },
    {
     "name": "stderr",
     "output_type": "stream",
     "text": [
      "C:\\Users\\Aman\\anaconda3\\lib\\site-packages\\xgboost\\compat.py:36: FutureWarning:\n",
      "\n",
      "pandas.Int64Index is deprecated and will be removed from pandas in a future version. Use pandas.Index with the appropriate dtype instead.\n",
      "\n",
      "\n",
      "C:\\Users\\Aman\\anaconda3\\lib\\pkgutil.py:107: VisibleDeprecationWarning:\n",
      "\n",
      "zmq.eventloop.minitornado is deprecated in pyzmq 14.0 and will be removed.\n",
      "    Install tornado itself to use zmq with the tornado IOLoop.\n",
      "    \n",
      "\n",
      "\n"
     ]
    },
    {
     "name": "stdout",
     "output_type": "stream",
     "text": [
      "8c8c5116bc4884237d33__mypyc cwp                 multidict           smtpd\n",
      "BayesianOptimization cycler              multimethod         smtplib\n",
      "Crypto              cymem               multipledispatch    sndhdr\n",
      "Cython              cython              multiprocessing     sniffio\n",
      "IPython             cythonmagic         murmurhash          snowballstemmer\n",
      "MySQLdb             cytoolz             mypy                socket\n",
      "OpenSSL             dask                mypy_extensions     socketserver\n",
      "PIL                 dataclasses         mypyc               socks\n",
      "PyPDF2              dateparser          mysql               sockshandler\n",
      "PyQt5               dateparser_cli      mysqlx              sortedcollections\n",
      "__future__          dateparser_data     nacl                sortedcontainers\n",
      "_abc                dateparser_scripts  navigator_updater   soupsieve\n",
      "_ast                datetime            nbclient            spacy\n",
      "_asyncio            dateutil            nbconvert           spacy_legacy\n",
      "_bisect             dbi                 nbformat            spacy_loggers\n",
      "_blake2             dbm                 nest_asyncio        sphinx\n",
      "_bootlocale         dde                 netbios             sphinxcontrib\n",
      "_bz2                debug_toolbar       netrc               spotify\n",
      "_cffi_backend       decimal             networkx            spotipy\n",
      "_codecs             decorator           nibabel             spyder\n",
      "_codecs_cn          defusedxml          nisext              spyder_kernels\n",
      "_codecs_hk          deprecated          nltk                sqlalchemy\n",
      "_codecs_iso2022     diff_match_patch    nntplib             sqlite3\n",
      "_codecs_jp          difflib             nose                sqlparse\n",
      "_codecs_kr          dis                 notebook            sre_compile\n",
      "_codecs_tw          distributed         nt                  sre_constants\n",
      "_collections        distutils           ntpath              sre_parse\n",
      "_collections_abc    django              ntsecuritycon       srsly\n",
      "_compat_pickle      django_extensions   nturl2path          ssl\n",
      "_compression        django_filters      numba               sspi\n",
      "_contextvars        django_rq           numbers             sspicon\n",
      "_csv                django_user_agents  numexpr             stat\n",
      "_ctypes             dlib                numpy               statistics\n",
      "_ctypes_test        doctest             numpydoc            statsmodels\n",
      "_datetime           docutils            oauthlib            stevedore\n",
      "_decimal            dodgy               ocrmypdf            storemagic\n",
      "_distutils_hack     dotenv              odbc                string\n",
      "_dlib_pybind11      drf_dynamic_fields  olefile             stringprep\n",
      "_dummy_thread       drf_generators      opcode              stripe\n",
      "_elementtree        drf_yasg            openapi_codec       struct\n",
      "_functools          dry_attr            opencage            subprocess\n",
      "_hashlib            dummy_threading     openid              sunau\n",
      "_heapq              easy_install        openpyxl            symbol\n",
      "_imp                easyocr             operator            sympy\n",
      "_io                 editdistance        opt_einsum          sympyprinting\n",
      "_json               efficientnet        optparse            symtable\n",
      "_locale             email               ordered_set         sys\n",
      "_lsprof             en_core_web_sm      ortools             sysconfig\n",
      "_lzma               encodings           os                  tables\n",
      "_markupbase         ensurepip           outcome             tabnanny\n",
      "_md5                entrypoints         packaging           tabulate\n",
      "_msi                enum                pandas              tangled_up_in_unicode\n",
      "_multibytecodec     errno               pandas_profiling    tarfile\n",
      "_multiprocessing    essential_generators pandocfilters       tblib\n",
      "_mysql_connector    et_xmlfile          paramiko            telnetlib\n",
      "_mysqlxpb           examples            parsel              tempfile\n",
      "_nsis               expiringdict        parser              tenacity\n",
      "_opcode             fastcache           parso               tensorboard\n",
      "_operator           faulthandler        partd               tensorboard_data_server\n",
      "_osx_support        filecmp             past                tensorboard_plugin_wit\n",
      "_overlapped         fileinput           pasta               tensorflow\n",
      "_pickle             filelock            path                tensorflow_estimator\n",
      "_plotly_future_     filetype            pathlib             tensorflow_io_gcs_filesystem\n",
      "_plotly_utils       fitz                pathlib2            termcolor\n",
      "_py_abc             flake8              pathtools           terminado\n",
      "_pydecimal          flake8_polyfill     pathy               test\n",
      "_pyio               flask               patsy               test_data\n",
      "_pyrsistent_version flatbuffers         paytmchecksum       test_pycosat\n",
      "_pytest             fnmatch             pbr                 testing\n",
      "_queue              folium              pdb                 testpath\n",
      "_random             fontTools           pdf2image           tests\n",
      "_sha1               formatter           pdfminer            tests_negative\n",
      "_sha256             fractions           pdfplumber          textwrap\n",
      "_sha3               frozenlist          pdfx                theano\n",
      "_sha512             fsspec              pep8                thinc\n",
      "_signal             ftplib              pep8ext_naming      this\n",
      "_sitebuiltins       functools           perfmon             threading\n",
      "_socket             future              pexpect             threadpoolctl\n",
      "_sqlite3            gast                phik                tifffile\n",
      "_sre                gc                  pickle              time\n",
      "_ssl                genericpath         pickleshare         timeit\n",
      "_stat               gensim              pickletools         timer\n",
      "_statistics         geographiclib       pikepdf             tk\n",
      "_string             geopy               pip                 tkcalendar\n",
      "_strptime           getopt              pipes               tkinter\n",
      "_struct             getpass             pkg_resources       tldextract\n",
      "_symtable           gettext             pkginfo             tlz\n",
      "_system_path        gevent              pkgutil             token\n",
      "_testbuffer         git                 platform            tokenize\n",
      "_testcapi           gitdb               plistlib            toml\n",
      "_testconsole        glob                plotly              toolz\n",
      "_testimportmultiple glob2               plotly_express      torch\n",
      "_testinternalcapi   gmplot              plotlywidget        torchvision\n",
      "_testmultiphase     google_auth_oauthlib pluggy              tornado\n",
      "_thread             graphviz            ply                 tqdm\n",
      "_threading_local    greenlet            polling2            trace\n",
      "_tkinter            grpc                poplib              traceback\n",
      "_tracemalloc        grpc_status         poppler             tracemalloc\n",
      "_warnings           gunicorn            posixpath           traitlets\n",
      "_weakref            gzip                pprint              trio\n",
      "_weakrefset         h11                 preshed             trio_websocket\n",
      "_win32sysloader     h5py                profile             tty\n",
      "_winapi             hashlib             prometheus_client   turtle\n",
      "_winxptheme         haversine           prompt_toolkit      turtledemo\n",
      "_xxsubinterpreters  heapdict            prospector          twisted\n",
      "_yaml               heapq               protego             txaio\n",
      "abc                 hiredis             proto               typed_ast\n",
      "absl                hmac                pstats              typer\n",
      "adodbapi            html                psutil              types\n",
      "afxres              html5lib            psycopg2            typing\n",
      "aifc                htmlmin             pty                 typing_extensions\n",
      "aiohttp             http                pvectorc            typish\n",
      "aioredis            humanfriendly       py                  tzdata\n",
      "aiosignal           hyperlink           py_compile          tzlocal\n",
      "alabaster           idlelib             pyasn1              ua_parser\n",
      "allauth             idna                pyasn1_modules      ujson\n",
      "anaconda_navigator  imagehash           pyclbr              unicodecsv\n",
      "anaconda_project    imageio             pyclipper           unicodedata\n",
      "annoying            imagesize           pycodestyle         unidecode\n",
      "antigravity         imaplib             pycosat             unittest\n",
      "appdirs             img2pdf             pycparser           uritemplate\n",
      "arabic_reshaper     imgaug              pycurl              urllib\n",
      "argh                imghdr              pydantic            urllib3\n",
      "argon2              imp                 pydispatch          user_agents\n",
      "argparse            importlib           pydoc               uu\n",
      "array               importlib_metadata  pydoc_data          uuid\n",
      "asgiref             importlib_resources pydocstyle          validators\n",
      "asn1crypto          imutils             pyexpat             venv\n",
      "ast                 incremental         pyflakes            visions\n",
      "astroid             inflection          pygments            w3lib\n",
      "astropy             iniconfig           pygpu               wand\n",
      "astunparse          inspect             pylab               warnings\n",
      "async_generator     intervaltree        pylint              wasabi\n",
      "async_timeout       invoice2data        pylint_celery       watchdog\n",
      "asynchat            io                  pylint_django       wave\n",
      "asyncio             ipaddress           pylint_flask        wcwidth\n",
      "asyncore            ipykernel           pylint_plugin_utils weakref\n",
      "atexit              ipykernel_launcher  pyls                webbrowser\n",
      "atomicwrites        ipython_genutils    pyls_jsonrpc        webdriver_manager\n",
      "attr                ipywidgets          pymysql             webencodings\n",
      "audioop             isapi               pyodbc              werkzeug\n",
      "automat             isodate             pyparsing           wheel\n",
      "autopep8            isort               pyreadline          whitenoise\n",
      "autoreload          isympy              pyreadline3         widget_tweaks\n",
      "babel               itemadapter         pyrfc3339           widgetsnbextension\n",
      "backcall            itemloaders         pyrsistent          win2kras\n",
      "backoff             itertools           pytesseract         win32api\n",
      "backports           itsdangerous        pytest              win32clipboard\n",
      "bandit              itypes              pythoncom           win32com\n",
      "base64              jdcal               pytz                win32con\n",
      "bayes_opt           jedi                pytz_deprecation_shim win32console\n",
      "bcrypt              jinja2              pywin               win32cred\n",
      "bdb                 jmespath            pywin32_bootstrap   win32crypt\n",
      "bidi                joblib              pywin32_testutil    win32cryptcon\n",
      "bin                 jp2                 pywintypes          win32ctypes\n",
      "binascii            json                pywt                win32event\n",
      "binhex              json5               pyximport           win32evtlog\n",
      "binstar_client      jsondiff            qdarkstyle          win32evtlogutil\n",
      "bisect              jsons               qtawesome           win32file\n",
      "bitarray            jsonschema          qtconsole           win32gui\n",
      "bkcharts            jupyter             qtpy                win32gui_struct\n",
      "bleach              jupyter_client      queue               win32help\n",
      "blis                jupyter_console     queuelib            win32inet\n",
      "bokeh               jupyter_core        quopri              win32inetcon\n",
      "boto                jupyterlab          random              win32job\n",
      "boto3               jupyterlab_plotly   ranged_fileresponse win32lz\n",
      "botocore            jupyterlab_pygments rasutil             win32net\n",
      "bottleneck          jupyterlab_server   razorpay            win32netcon\n",
      "boxing              jwt                 re                  win32pdh\n",
      "branca              kaleido             readline            win32pdhquery\n",
      "brotli              keras               redis               win32pdhutil\n",
      "bs4                 keras_applications  redis_cache         win32pipe\n",
      "builtins            keras_ocr           regcheck            win32print\n",
      "bz2                 keras_preprocessing regex               win32process\n",
      "cProfile            keyring             regutil             win32profile\n",
      "cache               keyword             reportlab           win32ras\n",
      "cachetools          kiwisolver          reprlib             win32rcparser\n",
      "caffe2              labelImg            requests            win32security\n",
      "calendar            label_studio        requests_file       win32service\n",
      "catalogue           label_studio_converter requests_oauthlib   win32serviceutil\n",
      "category_encoders   label_studio_tools  requirements_detector win32timezone\n",
      "certifi             langcodes           rest_flex_fields    win32trace\n",
      "cffi                lazy_object_proxy   rest_framework      win32traceutil\n",
      "cgi                 ldclient            rest_framework_swagger win32transaction\n",
      "cgitb               lib2to3             rlcompleter         win32ts\n",
      "chardet             libarchive          rmagic              win32ui\n",
      "charset_normalizer  libfuturize         rope                win32uiole\n",
      "chunk               libpasteurize       rossum              win32verstamp\n",
      "clang               libs                rq                  win32wnet\n",
      "click               lief                rsa                 win_inet_pton\n",
      "click_shell         linecache           rtree               win_unicode_console\n",
      "cloudpickle         llvmlite            ruamel_yaml         wincertstore\n",
      "clyent              locale              rules               winerror\n",
      "cmake               locket              run                 winioctlcon\n",
      "cmath               lockfile            runpy               winnt\n",
      "cmd                 logging             s3transfer          winperf\n",
      "code                lxml                sched               winpty\n",
      "codecs              lzma                scipy               winreg\n",
      "codeop              mailbox             scrapy              winsound\n",
      "collections         mailcap             scripts             winxpgui\n",
      "colorama            mako                seaborn             winxptheme\n",
      "coloredlogs         markdown            secrets             wrapt\n",
      "colorsys            markupsafe          select              wsgiref\n",
      "commctrl            marshal             selectors           wsproto\n",
      "compileall          maskrcnn            selenium            xdrlib\n",
      "comtypes            math                semver              xgboost\n",
      "concurrent          mathfilters         send2trash          xhtml2pdf\n",
      "conda               matplotlib          sentry_sdk          xlrd\n",
      "conda_build         mccabe              service_identity    xlsxwriter\n",
      "conda_env           menuinst            servicemanager      xlwings\n",
      "conda_package_handling mimetypes           setoptconf          xlwt\n",
      "conda_verify        minisom             setuptools          xml\n",
      "configparser        missingno           shapely             xmljson\n",
      "constantly          mistune             shelve              xmlrpc\n",
      "contextlib          mkl                 shlex               xmltodict\n",
      "contextlib2         mkl_fft             shutil              xxsubtype\n",
      "contextvars         mkl_random          signal              yaml\n",
      "copy                mlrose              simplegeneric       yapf\n",
      "copyreg             mmap                simplejson          yapftests\n",
      "coreapi             mmapfile            singledispatch      yarl\n",
      "coreschema          mmsystem            singledispatch_helpers zict\n",
      "corsheaders         mock                sip                 zipapp\n",
      "crispy_forms        model_utils         sipconfig           zipfile\n",
      "crypt               modulefinder        sipdistutils        zipimport\n",
      "cryptography        more_itertools      site                zipp\n",
      "cssselect           mpmath              six                 zlib\n",
      "csv                 msgpack             skimage             zmq\n",
      "ctypes              msilib              sklearn             zope\n",
      "curl                msrest              sklearn_pandas      ~andas\n",
      "curses              msvcrt              smart_open          ~ffi\n",
      "cv2                 mtcnn               smmap               \n",
      "\n",
      "Enter any module name to get more help.  Or, type \"modules spam\" to search\n",
      "for modules whose name or summary contain the string \"spam\".\n",
      "\n"
     ]
    },
    {
     "name": "stdout",
     "output_type": "stream",
     "text": [
      "\n",
      "You are now leaving help and returning to the Python interpreter.\n",
      "If you want to ask for help on a particular object directly from the\n",
      "interpreter, you can type \"help(object)\".  Executing \"help('string')\"\n",
      "has the same effect as typing a particular string at the help> prompt.\n"
     ]
    }
   ],
   "source": [
    "help()"
   ]
  },
  {
   "cell_type": "code",
   "execution_count": 10,
   "metadata": {},
   "outputs": [
    {
     "name": "stdout",
     "output_type": "stream",
     "text": [
      "90\n"
     ]
    }
   ],
   "source": [
    "# print(x['d'])\n",
    "print(x.get('d'))\n"
   ]
  },
  {
   "cell_type": "code",
   "execution_count": 11,
   "metadata": {},
   "outputs": [
    {
     "name": "stdout",
     "output_type": "stream",
     "text": [
      "{'a': 1, 'b': 2, 'c': 3, 'd': 90}\n"
     ]
    }
   ],
   "source": [
    "x['d'] = 90\n",
    "print(x)"
   ]
  },
  {
   "cell_type": "code",
   "execution_count": 15,
   "metadata": {},
   "outputs": [
    {
     "name": "stdout",
     "output_type": "stream",
     "text": [
      "{'a': [1, 4, 5, 667, 6, 6], 'b': (2, 3, 2, 4), 'c': {67, 34, 3, 7}, 1: 90, 8.9: 100}\n"
     ]
    }
   ],
   "source": [
    "x = {\n",
    "    'a' : [1,4,5,6,6,6],\n",
    "    'b' : (2,3,2,4),\n",
    "    'c' : {3,34,7,67},\n",
    "    1 : 90,\n",
    "    8.9 : 100\n",
    "}\n",
    "\n",
    "x['a'][3] = 667\n",
    "\n",
    "print(x)"
   ]
  },
  {
   "cell_type": "code",
   "execution_count": 16,
   "metadata": {},
   "outputs": [
    {
     "name": "stdout",
     "output_type": "stream",
     "text": [
      "{'a': 1, 'b': 2, 'c': 3, 'd': 100, 'e': 'hello'}\n"
     ]
    }
   ],
   "source": [
    "x = {\n",
    "    'a':1,\n",
    "    'b':2,\n",
    "    'c':3\n",
    "}\n",
    "# x['d'] = 90\n",
    "x.update({'d':100,'e':\"hello\"})\n",
    "print(x)"
   ]
  },
  {
   "cell_type": "code",
   "execution_count": 17,
   "metadata": {},
   "outputs": [
    {
     "name": "stdout",
     "output_type": "stream",
     "text": [
      "dict_keys(['a', 'b', 'c'])\n",
      "dict_values([1, 2, 3])\n",
      "dict_items([('a', 1), ('b', 2), ('c', 3)])\n"
     ]
    }
   ],
   "source": [
    "x = {\n",
    "    'a':1,\n",
    "    'b':2,\n",
    "    'c':3\n",
    "}\n",
    "print(x.keys())\n",
    "print(x.values())\n",
    "print(x.items())"
   ]
  },
  {
   "cell_type": "code",
   "execution_count": 23,
   "metadata": {},
   "outputs": [
    {
     "name": "stdout",
     "output_type": "stream",
     "text": [
      "False\n",
      "False\n"
     ]
    }
   ],
   "source": [
    "x = {\n",
    "     'a' : 1,\n",
    "     'b' : 2,\n",
    "     'c' : 3\n",
    "}\n",
    "# print(x['a'],x['b'],x['c'])\n",
    "\n",
    "# for i in x:\n",
    "#     print(i,\"---\",x[i])\n",
    "# for i in range(len(x)):\n",
    "#     print(i)\n",
    "# print(print(type()))\n",
    "\n",
    "# print(bool())\n",
    "# print(bool(False))"
   ]
  },
  {
   "cell_type": "code",
   "execution_count": 24,
   "metadata": {},
   "outputs": [
    {
     "name": "stdout",
     "output_type": "stream",
     "text": [
      "a ---- 1\n",
      "b ---- 2\n",
      "c ---- 3\n"
     ]
    }
   ],
   "source": [
    "for i in x.keys():\n",
    "    print(i,\"----\",x[i])"
   ]
  },
  {
   "cell_type": "code",
   "execution_count": 25,
   "metadata": {},
   "outputs": [
    {
     "name": "stdout",
     "output_type": "stream",
     "text": [
      "1\n",
      "2\n",
      "3\n"
     ]
    }
   ],
   "source": [
    "for i in x.values():\n",
    "    print(i,\"--\",x[i])"
   ]
  },
  {
   "cell_type": "code",
   "execution_count": 28,
   "metadata": {},
   "outputs": [
    {
     "name": "stdout",
     "output_type": "stream",
     "text": [
      "a 1\n",
      "b 2\n",
      "c 3\n"
     ]
    }
   ],
   "source": [
    "for i,j in x.items():\n",
    "    print(i,j)"
   ]
  },
  {
   "cell_type": "code",
   "execution_count": 30,
   "metadata": {},
   "outputs": [
    {
     "name": "stdout",
     "output_type": "stream",
     "text": [
      "{'a': 0, 'b': 0, 'c': 0}\n"
     ]
    }
   ],
   "source": [
    "x = ['a','b','c']\n",
    "y = 0\n",
    "\n",
    "# z = {'a':0,'b':0,'c':0}\n",
    "z = {}\n",
    "for i in x:\n",
    "    z[i] = y\n",
    "\n",
    "print(z)"
   ]
  },
  {
   "cell_type": "code",
   "execution_count": 31,
   "metadata": {},
   "outputs": [
    {
     "data": {
      "text/plain": [
       "{'a': 1, 'b': 2, 'c': 3, 'd': 90}"
      ]
     },
     "execution_count": 31,
     "metadata": {},
     "output_type": "execute_result"
    }
   ],
   "source": [
    "x = {'a':1,'b':2,'c':3}\n",
    "x['d'] = 90\n",
    "x"
   ]
  },
  {
   "cell_type": "code",
   "execution_count": 34,
   "metadata": {},
   "outputs": [
    {
     "data": {
      "text/plain": [
       "{'a': 0, 'b': 0}"
      ]
     },
     "execution_count": 34,
     "metadata": {},
     "output_type": "execute_result"
    }
   ],
   "source": [
    "z = {}\n",
    "z['a'] = 0\n",
    "z['b'] = 0\n",
    "z"
   ]
  },
  {
   "cell_type": "code",
   "execution_count": 35,
   "metadata": {},
   "outputs": [
    {
     "data": {
      "text/plain": [
       "{'a': 1, 'b': 2, 'c': 3}"
      ]
     },
     "execution_count": 35,
     "metadata": {},
     "output_type": "execute_result"
    }
   ],
   "source": [
    "x = ['a','b','c']\n",
    "y = [1, 2, 3]\n",
    "\n",
    "z = {}\n",
    "\n",
    "for i in range(len(x)):\n",
    "    z.update({x[i]:y[i]})\n",
    "z"
   ]
  },
  {
   "cell_type": "code",
   "execution_count": 38,
   "metadata": {},
   "outputs": [
    {
     "name": "stdout",
     "output_type": "stream",
     "text": [
      "4\n"
     ]
    }
   ],
   "source": [
    "x = {\n",
    "    'a' : 1,\n",
    "    'b' : 2,\n",
    "    'c' : 2\n",
    "}\n",
    "mul = 1\n",
    "for i in x.values():\n",
    "    mul = mul * i\n",
    "    \n",
    "print(mul)"
   ]
  },
  {
   "cell_type": "code",
   "execution_count": 15,
   "metadata": {},
   "outputs": [
    {
     "name": "stdout",
     "output_type": "stream",
     "text": [
      "{}\n"
     ]
    }
   ],
   "source": [
    "x = {\n",
    "    'a' : 1,\n",
    "    'b' : 2,\n",
    "    'c' : 3\n",
    "}\n",
    "# del x['a']\n",
    "# z = x.pop('a')\n",
    "# z = x.popitem()\n",
    "# x.clear()\n",
    "# print(z)\n",
    "# z = {}\n",
    "print(x)"
   ]
  },
  {
   "cell_type": "code",
   "execution_count": 16,
   "metadata": {},
   "outputs": [
    {
     "name": "stdout",
     "output_type": "stream",
     "text": [
      "[1, 2, 3, 10]\n",
      "((4, 5, 6), 100)\n"
     ]
    }
   ],
   "source": [
    "x = {\n",
    "    1 : [1,2,3],\n",
    "    2 : (4,5,6)\n",
    "}\n",
    "\n",
    "x[1].append(10)\n",
    "print(x[1])\n",
    "y = [x[2]]\n",
    "y.append(100)\n",
    "x[2] = tuple(y)\n",
    "print(x[2])"
   ]
  },
  {
   "cell_type": "code",
   "execution_count": 18,
   "metadata": {},
   "outputs": [
    {
     "name": "stdout",
     "output_type": "stream",
     "text": [
      "enter a number = 10\n",
      "{1: 1, 2: 4, 3: 9, 4: 16, 5: 25, 6: 36, 7: 49, 8: 64, 9: 81, 10: 100}\n"
     ]
    }
   ],
   "source": [
    "# x = {\n",
    "#     1:1,\n",
    "#     2:4,\n",
    "#     3:9,\n",
    "#     4:16,\n",
    "#     5:25\n",
    "# }\n",
    "c = int(input(\"enter a number = \"))\n",
    "z = {i:i*i for i in range(1,c+1)}\n",
    "print(z)"
   ]
  },
  {
   "cell_type": "code",
   "execution_count": 19,
   "metadata": {},
   "outputs": [
    {
     "name": "stdout",
     "output_type": "stream",
     "text": [
      "{1: [1, 2, 3], 2: [4, 5, 6]}\n"
     ]
    }
   ],
   "source": [
    "x = [ [1,2,3] , [4,5,6] ]\n",
    "\n",
    "z = {}\n",
    "for i in range(len(x)):\n",
    "    z.update({i+1:x[i]})\n",
    "\n",
    "print(z)\n",
    "    "
   ]
  },
  {
   "cell_type": "code",
   "execution_count": 22,
   "metadata": {},
   "outputs": [
    {
     "ename": "TypeError",
     "evalue": "unhashable type: 'dict'",
     "output_type": "error",
     "traceback": [
      "\u001b[1;31m---------------------------------------------------------------------------\u001b[0m",
      "\u001b[1;31mTypeError\u001b[0m                                 Traceback (most recent call last)",
      "\u001b[1;32m<ipython-input-22-3c5fe1f90084>\u001b[0m in \u001b[0;36m<module>\u001b[1;34m\u001b[0m\n\u001b[1;32m----> 1\u001b[1;33m x = {\n\u001b[0m\u001b[0;32m      2\u001b[0m    {'a' : {\n\u001b[0;32m      3\u001b[0m            \u001b[1;34m'name'\u001b[0m\u001b[1;33m:\u001b[0m\u001b[1;34m'aman'\u001b[0m\u001b[1;33m,\u001b[0m\u001b[1;33m\u001b[0m\u001b[1;33m\u001b[0m\u001b[0m\n\u001b[0;32m      4\u001b[0m            \u001b[1;34m'age'\u001b[0m\u001b[1;33m:\u001b[0m\u001b[1;36m18\u001b[0m\u001b[1;33m,\u001b[0m\u001b[1;33m\u001b[0m\u001b[1;33m\u001b[0m\u001b[0m\n\u001b[0;32m      5\u001b[0m           },\n",
      "\u001b[1;31mTypeError\u001b[0m: unhashable type: 'dict'"
     ]
    }
   ],
   "source": [
    "x = {\n",
    "    \n",
    "    'a' : {\n",
    "           'name':'aman',\n",
    "           'age':18,\n",
    "          },\n",
    "    'b': {\n",
    "            'name':'sonu',\n",
    "            'age':14\n",
    "        }\n",
    "}\n",
    "x['b']['age'] = 56\n",
    "print(x)"
   ]
  },
  {
   "cell_type": "code",
   "execution_count": null,
   "metadata": {},
   "outputs": [],
   "source": []
  }
 ],
 "metadata": {
  "kernelspec": {
   "display_name": "Python 3",
   "language": "python",
   "name": "python3"
  },
  "language_info": {
   "codemirror_mode": {
    "name": "ipython",
    "version": 3
   },
   "file_extension": ".py",
   "mimetype": "text/x-python",
   "name": "python",
   "nbconvert_exporter": "python",
   "pygments_lexer": "ipython3",
   "version": "3.8.5"
  }
 },
 "nbformat": 4,
 "nbformat_minor": 4
}
