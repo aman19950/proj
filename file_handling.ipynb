{
 "cells": [
  {
   "cell_type": "code",
   "execution_count": 42,
   "metadata": {},
   "outputs": [
    {
     "name": "stdout",
     "output_type": "stream",
     "text": [
      "10\n",
      "class of file handling\n",
      "welcome to this class\n",
      "Introduction to file handling\n",
      "this is my new content\n",
      "108\n"
     ]
    }
   ],
   "source": [
    "f = open(\"demo.txt\",'r')\n",
    "x = 10\n",
    "# print(f.read())\n",
    "# print(f.write(\"\\nthis is my new content\"))\n",
    "# print(f.readline(3))\n",
    "# print(f.readline())\n",
    "# print(f.readlines(33))\n",
    "f.seek(x)\n",
    "print(f.tell())\n",
    "print(f.read())\n",
    "print(f.tell())\n",
    "f.close()"
   ]
  },
  {
   "cell_type": "code",
   "execution_count": 34,
   "metadata": {},
   "outputs": [
    {
     "name": "stdout",
     "output_type": "stream",
     "text": [
      "hdgxgf\n"
     ]
    }
   ],
   "source": [
    "f = open(\"D:\\\\New folder\\\\README.txt\",'r')\n",
    "print(f.read())\n",
    "f.close()"
   ]
  },
  {
   "cell_type": "code",
   "execution_count": null,
   "metadata": {},
   "outputs": [],
   "source": []
  }
 ],
 "metadata": {
  "kernelspec": {
   "display_name": "Python 3",
   "language": "python",
   "name": "python3"
  },
  "language_info": {
   "codemirror_mode": {
    "name": "ipython",
    "version": 3
   },
   "file_extension": ".py",
   "mimetype": "text/x-python",
   "name": "python",
   "nbconvert_exporter": "python",
   "pygments_lexer": "ipython3",
   "version": "3.8.5"
  }
 },
 "nbformat": 4,
 "nbformat_minor": 4
}
