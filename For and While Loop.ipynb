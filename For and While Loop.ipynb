{
 "cells": [
  {
   "cell_type": "markdown",
   "metadata": {},
   "source": [
    "### The FOR Loop\n",
    "<ol> \n",
    "    <li>A <b>for loop</b> is used for iterating over a sequence (that is either a list, a tuple, a dictionary, a set, or a string).</li>\n",
    "<li><i>is is less like the for keyword in other programming languages, and works more like an iterator method as found in other object-orientated programming languages</i>.</li>\n",
    "\n",
    "<li>With the <strong>for loop</strong> we can execute a set of statements, once for each item in a list, tuple, set etc.</li></ol>"
   ]
  },
  {
   "cell_type": "code",
   "execution_count": null,
   "metadata": {},
   "outputs": [],
   "source": [
    "for i in range(1,10,2):   # syntax for i in range(start,stop,step):\n",
    "    print(i)"
   ]
  },
  {
   "cell_type": "code",
   "execution_count": null,
   "metadata": {},
   "outputs": [],
   "source": [
    "for i in range(1,10):   # syntax for i in range(start,stop): by default step size is 1\n",
    "    print(i)"
   ]
  },
  {
   "cell_type": "code",
   "execution_count": null,
   "metadata": {},
   "outputs": [],
   "source": [
    "for i in range(10):   # syntax for i in range(stop): by default the loop will start from 0 and by default step size is 1\n",
    "    print(i)"
   ]
  },
  {
   "cell_type": "markdown",
   "metadata": {},
   "source": [
    "### The WHILE Loop\n",
    "\n",
    "<ol><li>With the while loop we can execute a set of statements as long as a condition is true.</li></ol>"
   ]
  },
  {
   "cell_type": "code",
   "execution_count": null,
   "metadata": {},
   "outputs": [],
   "source": [
    "i = 1                                 # syntax initialization ----> i = 0\n",
    "while(i<=6):                          # while (condition)\n",
    "    print(i)                          #\n",
    "    i = i + 1                         # updation i = i + 1 or i += 1"
   ]
  },
  {
   "cell_type": "code",
   "execution_count": 2,
   "metadata": {},
   "outputs": [
    {
     "name": "stdout",
     "output_type": "stream",
     "text": [
      "enter your range = 30\n",
      "the sum of 30 naturals number is =  465\n"
     ]
    }
   ],
   "source": [
    "#wap to program to print the sum of n natural numbers\n",
    "# ex - 1,n,   1+2+3+4+5+6+7+8+9+10+...+n\n",
    "# output = 55\n",
    "\n",
    "num  =  int(input(\"enter your range = \"))\n",
    "sum = 0\n",
    "for i in range(1, num + 1):\n",
    "    sum = sum + i\n",
    "\n",
    "print(\"the sum of\",num,\"naturals number is = \",sum)"
   ]
  },
  {
   "cell_type": "code",
   "execution_count": 5,
   "metadata": {},
   "outputs": [
    {
     "name": "stdout",
     "output_type": "stream",
     "text": [
      "enter your range = 6\n",
      "1\n",
      "2\n",
      "3\n",
      "6\n",
      "total factors is = 4\n"
     ]
    }
   ],
   "source": [
    "###### wap to print all factors of number and count the total factors\n",
    "\n",
    "num  =  int(input(\"enter your range = \"))\n",
    "c = 0\n",
    "for i in range(1,num+1):\n",
    "    if (num % i==0):\n",
    "        print(i)\n",
    "        c = c + 1\n",
    "print(\"total factors is =\",c)"
   ]
  },
  {
   "cell_type": "code",
   "execution_count": 6,
   "metadata": {},
   "outputs": [
    {
     "name": "stdout",
     "output_type": "stream",
     "text": [
      "1\n",
      "2\n",
      "3\n",
      "4\n",
      "5\n",
      "done\n"
     ]
    }
   ],
   "source": [
    "for i in range(1,6):\n",
    "    print(i)\n",
    "else:\n",
    "    print(\"done\")"
   ]
  },
  {
   "cell_type": "markdown",
   "metadata": {},
   "source": [
    "### Break,Continue and Pass"
   ]
  },
  {
   "cell_type": "code",
   "execution_count": 7,
   "metadata": {},
   "outputs": [
    {
     "name": "stdout",
     "output_type": "stream",
     "text": [
      "1\n",
      "2\n"
     ]
    }
   ],
   "source": [
    "# x = int(input(\"enter a number = \"))\n",
    "for i in range(1,5):\n",
    "    if i == 3:\n",
    "        break\n",
    "    print(i)\n",
    "else:\n",
    "    print(\"done\")"
   ]
  },
  {
   "cell_type": "code",
   "execution_count": 8,
   "metadata": {},
   "outputs": [
    {
     "name": "stdout",
     "output_type": "stream",
     "text": [
      "1\n",
      "2\n",
      "4\n",
      "done\n"
     ]
    }
   ],
   "source": [
    "for i in range(1,5):\n",
    "    if i == 3:\n",
    "        continue\n",
    "    print(i)\n",
    "else:\n",
    "    print(\"done\")"
   ]
  },
  {
   "cell_type": "code",
   "execution_count": 10,
   "metadata": {},
   "outputs": [
    {
     "name": "stdout",
     "output_type": "stream",
     "text": [
      "true condition\n",
      "hi\n"
     ]
    }
   ],
   "source": [
    "if (10 > 5):\n",
    "    print(\"true condition\")\n",
    "else:\n",
    "    pass\n",
    "\n",
    "print(\"hi\")"
   ]
  },
  {
   "cell_type": "code",
   "execution_count": 13,
   "metadata": {},
   "outputs": [
    {
     "name": "stdout",
     "output_type": "stream",
     "text": [
      "hi\n"
     ]
    }
   ],
   "source": [
    "if(10>6):\n",
    "    pass\n",
    "print(\"hi\")"
   ]
  },
  {
   "cell_type": "markdown",
   "metadata": {},
   "source": [
    "### Nested If and elif\n"
   ]
  },
  {
   "cell_type": "code",
   "execution_count": 17,
   "metadata": {},
   "outputs": [
    {
     "name": "stdout",
     "output_type": "stream",
     "text": [
      "Bye\n"
     ]
    }
   ],
   "source": [
    "if(10 > 16):\n",
    "    print(\"hello\")\n",
    "elif(10 > 17):\n",
    "    print(\"hi\")\n",
    "elif(10 > 19):\n",
    "    print(\"hey\")\n",
    "else:\n",
    "    print(\"Bye\")"
   ]
  },
  {
   "cell_type": "code",
   "execution_count": 20,
   "metadata": {},
   "outputs": [
    {
     "name": "stdout",
     "output_type": "stream",
     "text": [
      "hello\n"
     ]
    }
   ],
   "source": [
    "if (10 > 5):\n",
    "    print(\"hello\")\n",
    "    if(10 > 14):\n",
    "        print(\"hi\")\n",
    "        if(200 >27):\n",
    "            print(\"hey\")\n",
    "\n",
    "else:\n",
    "    print(\"bye 2\")"
   ]
  },
  {
   "cell_type": "markdown",
   "metadata": {},
   "source": [
    "### Nested For "
   ]
  },
  {
   "cell_type": "code",
   "execution_count": 4,
   "metadata": {},
   "outputs": [
    {
     "name": "stdout",
     "output_type": "stream",
     "text": [
      "hello#"
     ]
    }
   ],
   "source": [
    "for i in range(1,6):\n",
    "    for j in range(1,i+1):\n",
    "        print(j,end=\"#\")\n",
    "    print()"
   ]
  },
  {
   "cell_type": "code",
   "execution_count": 27,
   "metadata": {},
   "outputs": [
    {
     "name": "stdout",
     "output_type": "stream",
     "text": [
      "* \n",
      "* * \n",
      "* * * \n",
      "* * * * \n",
      "* * * * * \n"
     ]
    }
   ],
   "source": [
    "i =  1\n",
    "while(i <= 5):\n",
    "    print(\"* \" * i)\n",
    "    i = i + 1"
   ]
  },
  {
   "cell_type": "code",
   "execution_count": null,
   "metadata": {},
   "outputs": [],
   "source": []
  }
 ],
 "metadata": {
  "kernelspec": {
   "display_name": "Python 3",
   "language": "python",
   "name": "python3"
  },
  "language_info": {
   "codemirror_mode": {
    "name": "ipython",
    "version": 3
   },
   "file_extension": ".py",
   "mimetype": "text/x-python",
   "name": "python",
   "nbconvert_exporter": "python",
   "pygments_lexer": "ipython3",
   "version": "3.8.5"
  }
 },
 "nbformat": 4,
 "nbformat_minor": 4
}
